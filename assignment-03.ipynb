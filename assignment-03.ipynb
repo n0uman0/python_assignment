# No 1.
def add(a, b):
    return a+b;

def subtract(a, b):
    return a-b;

def multiply(a, b):
    return a*b;

def divide(a, b):
    return a/b;

print("Select operation.")
print("1.Add")
print("2.Subtract")
print("3.Multiply")
print("4.Divide")

select = input("Enter value from the above 1,2,3,4");

val1 = float(input("Enter first value: "));
val2 = float(input("Enter second value: "));

if select == '1':
    print(val1,"+",val2,"=", add(val1,val2));
    
elif select == '2':
    print(val1,"-",val2,"=", subtract(val1,val2));

elif select == '3':
    print(val1,"x",val2,"=", multiply(val1,val2));

elif select == '4':
    print(val1,"/",val2,"=", divide(val1,val2));
    
else :
    print("Invalid input");
    


# No 2.
the_list = [1,"2",3,"Stt",6];
t = 0;
for i in the_list:
    if(isinstance(i, int)):
        print(i, "is Integer")
        t += 1;
print("total Integer in List", t);



# No 3.
def addKey(Dictionary, key, value):
    Dictionary[key] = value;
    return Dictionary;

the_dict =	{
  "brand": "Ford",
  "model": "Mustang",
  "year": 1964
}

addKey(the_dict,2,"test");
print(the_dict);


# No 4.
the_dict =	{
  "key1": 4,
  "key2": "Mustang",
  "key3": 16,
  "key4": 16
  
}

sum = 0;

for v in the_dict:
    if(isinstance(the_dict[v], int)):
        sum += the_dict[v];

print("total sum of int items is", sum);        
        
# No 5.
def removeDuplicate(the_list): 
    final_list = [] 
    for num in the_list: 
        if num not in final_list: 
            final_list.append(num) 
    return final_list 


lst = [ 3, 6, 9, 12, 3, 30, 15, 9, 45, 36, 12, 12];
print(removeDuplicate(lst))


# No 6.
def checkKey(Dictionary,key):
    if key in Dictionary:
       return print(key, "Already Exists")
    else:
        return print(key, "Not found!")

the_dict =	{
  "key1": 4,
  "key2": "Mustang",
  "key3": 16,
  "key4": 16
  
}

checkKey(the_dict,1);
