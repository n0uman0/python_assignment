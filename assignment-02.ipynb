# No : 1
english_marks = (int(input('Enter your English Marks')));
maths_marks = (int(input('Enter your Maths Marks')));
computer_marks = (int(input('Enter your Computer Marks')));
islamiat_marks = (int(input('Enter your Islamiat Marks')));
urdu_marks = (int(input('Enter your Urdu Marks')));

total_marks = english_marks+maths_marks+computer_marks+islamiat_marks+urdu_marks;
percentage = total_marks/500*100

if percentage >= 90:
    print('Congratulations you are pass with A1 grade')
elif percentage >= 80:
    print('Congratulations you are pass with A grade')
elif percentage >= 70:
    print('Congratulations you are pass with B grade')
elif percentage >= 60:
    print('Congratulations you are pass with C grade')
elif percentage >= 50:
    print('Congratulations you are pass with D grade')
else:
    print('Sorry you are fail with F grade')

print('your total marks are ' + str(total_marks) + ' out of 500 and your Percentage is '+ str(percentage))

# No : 2
input_number = int(input('Enter Number'))
if (input_number%2) == 0:
    print(str(input_number)+' is Even Number')
else:
    print(str(input_number)+' is Odd Number')
    

# No : 3
the_list = ['1','2','3']
print(len(the_list))


# No : 4
the_list = ['1','2','3']
sum_total = 0; 
for number in the_list:
    sum_total += int(number)
print(sum_total)


# No : 5
the_list = [100,20,30]
print(max(the_list))


# No : 6
the_list = [1, 4, 2, 3, 5, 8, 13, 0, 34, 55, 89]
for number in the_list:
    if number <5:
        print(number)
   
    
 



